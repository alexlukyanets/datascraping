{
 "cells": [
  {
   "cell_type": "code",
   "execution_count": 4,
   "metadata": {},
   "outputs": [],
   "source": [
    "from peewee import *\n",
    "\n",
    "db = PostgresqlDatabase('project_db', user='postgres', password='wise2012A', host='localhost', port=5432)\n",
    "db.connect()   \n",
    "\n",
    "    \n",
    "class GetCategory():\n",
    "    @staticmethod\n",
    "    def get_category_ua(qcategory):\n",
    "        try:\n",
    "            category = Job_category_ua.get(Job_category_ua.name == qcategory)\n",
    "            return category.url\n",
    "        except:\n",
    "            note = 'None'\n",
    "            return note\n",
    "    \n",
    "    @staticmethod\n",
    "    def get_category_ru(qcategory):\n",
    "        try:\n",
    "            category = Job_category_ru.get(Job_category_ru.name == qcategory)\n",
    "            return category.url\n",
    "        except:\n",
    "            note = 'None'\n",
    "            return note\n",
    "        \n",
    "class Job_category_ua(Model):\n",
    "    name = CharField()\n",
    "    url = TextField()\n",
    "    \n",
    "    class Meta:\n",
    "        database = db\n",
    "    \n",
    "class Job_category_ru(Model):\n",
    "    name = CharField()\n",
    "    url = TextField()\n",
    "    \n",
    "    class Meta:\n",
    "        database = db\n",
    "\n"
   ]
  },
  {
   "cell_type": "code",
   "execution_count": 7,
   "metadata": {},
   "outputs": [
    {
     "data": {
      "text/plain": [
       "'/ru/jobs-real-estate/?advs=1'"
      ]
     },
     "execution_count": 7,
     "metadata": {},
     "output_type": "execute_result"
    }
   ],
   "source": [
    "r = GetCategory.get_category_ru('Недвижимость')\n",
    "r"
   ]
  },
  {
   "cell_type": "code",
   "execution_count": null,
   "metadata": {},
   "outputs": [],
   "source": []
  }
 ],
 "metadata": {
  "kernelspec": {
   "display_name": "Python 3",
   "language": "python",
   "name": "python3"
  },
  "language_info": {
   "codemirror_mode": {
    "name": "ipython",
    "version": 3
   },
   "file_extension": ".py",
   "mimetype": "text/x-python",
   "name": "python",
   "nbconvert_exporter": "python",
   "pygments_lexer": "ipython3",
   "version": "3.7.3"
  }
 },
 "nbformat": 4,
 "nbformat_minor": 2
}
