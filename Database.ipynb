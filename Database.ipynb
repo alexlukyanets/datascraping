{
 "cells": [
  {
   "cell_type": "code",
   "execution_count": 1,
   "metadata": {},
   "outputs": [],
   "source": [
    "from peewee import *"
   ]
  },
  {
   "cell_type": "code",
   "execution_count": 2,
   "metadata": {},
   "outputs": [],
   "source": [
    "db = PostgresqlDatabase('project_db', user='postgres', password='wise2012A', host='localhost', port=5432)"
   ]
  },
  {
   "cell_type": "code",
   "execution_count": 6,
   "metadata": {},
   "outputs": [],
   "source": [
    "class Work_city_ru(Model):\n",
    "    city = CharField()\n",
    "    region = CharField()\n",
    "    number = CharField()\n",
    "    url = TextField()\n",
    "    language = CharField()\n",
    "\n",
    "    \n",
    "    class Meta:\n",
    "        database = db\n",
    "    "
   ]
  },
  {
   "cell_type": "code",
   "execution_count": 9,
   "metadata": {},
   "outputs": [],
   "source": [
    "#db.connect()"
   ]
  },
  {
   "cell_type": "code",
   "execution_count": 20,
   "metadata": {},
   "outputs": [
    {
     "data": {
      "text/plain": [
       "'/ru/jobs-kupiansk/'"
      ]
     },
     "execution_count": 20,
     "metadata": {},
     "output_type": "execute_result"
    }
   ],
   "source": [
    "city = Work_city_ru.get(Work_city_ru.city == 'Купянск')\n",
    "city.url"
   ]
  },
  {
   "cell_type": "code",
   "execution_count": 18,
   "metadata": {},
   "outputs": [],
   "source": [
    "class Work_city_ua(Model):\n",
    "    city = CharField()\n",
    "    region = CharField()\n",
    "    number = CharField()\n",
    "    url = TextField()\n",
    "    language = CharField()\n",
    "\n",
    "    \n",
    "    class Meta:\n",
    "        database = db\n",
    "    "
   ]
  },
  {
   "cell_type": "code",
   "execution_count": 24,
   "metadata": {},
   "outputs": [
    {
     "data": {
      "text/plain": [
       "'/jobs-kharkiv/'"
      ]
     },
     "execution_count": 24,
     "metadata": {},
     "output_type": "execute_result"
    }
   ],
   "source": [
    "city = Work_city_ua.get(Work_city_ua.city == 'Харків')\n",
    "type(city)\n",
    "city.url"
   ]
  },
  {
   "cell_type": "code",
   "execution_count": null,
   "metadata": {},
   "outputs": [],
   "source": []
  }
 ],
 "metadata": {
  "kernelspec": {
   "display_name": "Python 3",
   "language": "python",
   "name": "python3"
  },
  "language_info": {
   "codemirror_mode": {
    "name": "ipython",
    "version": 3
   },
   "file_extension": ".py",
   "mimetype": "text/x-python",
   "name": "python",
   "nbconvert_exporter": "python",
   "pygments_lexer": "ipython3",
   "version": "3.7.3"
  }
 },
 "nbformat": 4,
 "nbformat_minor": 2
}
