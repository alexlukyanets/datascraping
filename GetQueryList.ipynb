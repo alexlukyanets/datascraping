{
 "cells": [
  {
   "cell_type": "code",
   "execution_count": 1,
   "metadata": {},
   "outputs": [
    {
     "name": "stderr",
     "output_type": "stream",
     "text": [
      "C:\\Users\\Wise\\Anaconda3\\lib\\site-packages\\fuzzywuzzy\\fuzz.py:11: UserWarning: Using slow pure-python SequenceMatcher. Install python-Levenshtein to remove this warning\n",
      "  warnings.warn('Using slow pure-python SequenceMatcher. Install python-Levenshtein to remove this warning')\n"
     ]
    }
   ],
   "source": [
    "from ListVacancy import ListVacancy\n",
    "from UrlSet import UrlSetting\n",
    "from SmartSearch import SmarSearch"
   ]
  },
  {
   "cell_type": "code",
   "execution_count": 3,
   "metadata": {},
   "outputs": [
    {
     "name": "stdout",
     "output_type": "stream",
     "text": [
      "IT, компьютеры, интернет\n",
      "https://www.work.ua/ru/jobs-kharkiv-it-python\n"
     ]
    },
    {
     "data": {
      "text/plain": [
       "[{'title': 'Python developer',\n",
       "  'salary': 'ITCraft',\n",
       "  'mini_descript': 'None mini_descript',\n",
       "  'company': 'ITCraft',\n",
       "  'city': 'Харьков',\n",
       "  'agency': 'None agency',\n",
       "  'distance': 'Non distance',\n",
       "  'requirements': 'Полная занятость. Опыт работы от 2 лет',\n",
       "  'discription': 'IT Craft invites Python Developer to join the company. If you are experienced in development and have...',\n",
       "  'url': 'https://www.work.ua/ru/jobs/3393856/'},\n",
       " {'title': 'Senior Python Developer (Cash Flow Performance Platform)',\n",
       "  'salary': 'DataArt',\n",
       "  'mini_descript': '2,2 км от центра',\n",
       "  'company': 'DataArt',\n",
       "  'city': 'Харьков',\n",
       "  'agency': 'None agency',\n",
       "  'distance': '2,2 км от центра',\n",
       "  'requirements': 'Полная занятость. Опыт работы от 5 лет. Высшее образование',\n",
       "  'discription': 'DataArt’s client is an American financial startup. Their service helps enterprises collect and analyze...',\n",
       "  'url': 'https://www.work.ua/ru/jobs/3780449/'},\n",
       " {'title': 'Middle+ Python Developer',\n",
       "  'salary': 'Beetroot',\n",
       "  'mini_descript': '2,2 км от центра',\n",
       "  'company': 'Beetroot',\n",
       "  'city': 'Харьков',\n",
       "  'agency': 'None agency',\n",
       "  'distance': '2,2 км от центра',\n",
       "  'requirements': 'Полная занятость. Опыт работы от 2 лет',\n",
       "  'discription': 'Exciting times! We’re extremely happy to work with an awesome, new client based in Zürich, Switzerland...',\n",
       "  'url': 'https://www.work.ua/ru/jobs/3779366/'},\n",
       " {'title': 'Python (Django) Developer',\n",
       "  'salary': 'DDI Development',\n",
       "  'mini_descript': '3,8 км от центра',\n",
       "  'company': 'DDI Development',\n",
       "  'city': 'Харьков',\n",
       "  'agency': 'None agency',\n",
       "  'distance': '3,8 км от центра',\n",
       "  'requirements': 'Полная занятость. Опыт работы от 2 лет. Высшее образование',\n",
       "  'discription': 'Компания DDI Development в поисках талантливого Python Developer-а  Обязательные требования:    Опыт...',\n",
       "  'url': 'https://www.work.ua/ru/jobs/3653183/'}]"
      ]
     },
     "execution_count": 3,
     "metadata": {},
     "output_type": "execute_result"
    }
   ],
   "source": [
    "language = 'ru'\n",
    "inputquery = 'python'\n",
    "inputcategory = 'IT'\n",
    "inputscity = 'Харьк'\n",
    "\n",
    "truecity = SmarSearch.search_city(inputscity)\n",
    "truecategory = SmarSearch.search_category(inputcategory)\n",
    "\n",
    "print(truecategory)\n",
    "all_url = UrlSetting.setting(language, inputquery, truecategory, truecity)\n",
    "print(all_url)\n",
    "\n",
    "#text = ListVacancy.next_page(all_url,language)\n",
    "#print(text)\n",
    "data = ListVacancy.ListSentence(all_url)\n",
    "data"
   ]
  },
  {
   "cell_type": "code",
   "execution_count": 3,
   "metadata": {},
   "outputs": [
    {
     "data": {
      "text/plain": [
       "'\\n1. learn Database query \\n2. Smart Search\\n3. Create TB\\n4. Monitoring\\n'"
      ]
     },
     "execution_count": 3,
     "metadata": {},
     "output_type": "execute_result"
    }
   ],
   "source": [
    "\"\"\"\n",
    "1. learn Database query \n",
    "3. Create TB\n",
    "4. Monitoring\n",
    "\"\"\""
   ]
  },
  {
   "cell_type": "code",
   "execution_count": null,
   "metadata": {},
   "outputs": [],
   "source": []
  },
  {
   "cell_type": "code",
   "execution_count": null,
   "metadata": {},
   "outputs": [],
   "source": []
  },
  {
   "cell_type": "code",
   "execution_count": null,
   "metadata": {},
   "outputs": [],
   "source": []
  }
 ],
 "metadata": {
  "kernelspec": {
   "display_name": "Python 3",
   "language": "python",
   "name": "python3"
  },
  "language_info": {
   "codemirror_mode": {
    "name": "ipython",
    "version": 3
   },
   "file_extension": ".py",
   "mimetype": "text/x-python",
   "name": "python",
   "nbconvert_exporter": "python",
   "pygments_lexer": "ipython3",
   "version": "3.7.3"
  }
 },
 "nbformat": 4,
 "nbformat_minor": 2
}
