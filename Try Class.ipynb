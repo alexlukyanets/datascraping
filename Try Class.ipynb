{
 "cells": [
  {
   "cell_type": "code",
   "execution_count": 27,
   "metadata": {},
   "outputs": [],
   "source": [
    "from GetCity import GetCity\n",
    "from GetCategory import GetCategory"
   ]
  },
  {
   "cell_type": "code",
   "execution_count": 28,
   "metadata": {},
   "outputs": [],
   "source": [
    "def try_get_city(name):\n",
    "    city_ru = GetCity.get_city_ru(name)\n",
    "    city_ua = GetCity.get_city_ua(name)\n",
    "\n",
    "    #print(city_ru)\n",
    "    #print(city_ua)\n",
    "    \n",
    "    if city_ru[9:-1] == city_ua[6:-1] and city_ru != 'None':\n",
    "        #print(1)\n",
    "        return city_ua[6:-1]\n",
    "\n",
    "    if city_ru == 'None' and city_ua == 'None':\n",
    "        #print(2)\n",
    "        return ''\n",
    "\n",
    "    if city_ru == 'None':\n",
    "        #print(3)\n",
    "        return city_ua[6:-1]\n",
    "\n",
    "    if city_ua == 'None':\n",
    "        #print(4)\n",
    "        return city_ru[9:-1]"
   ]
  },
  {
   "cell_type": "code",
   "execution_count": 29,
   "metadata": {},
   "outputs": [],
   "source": [
    "def get_category(category):\n",
    "    category_ru = GetCategory.get_category_ru(category)\n",
    "    category_ua = GetCategory.get_category_ua(category)\n",
    "    \n",
    "    #print(category_ua)\n",
    "    #print(category_ru)\n",
    "    if category_ru == category_ua and category_ru != 'None':\n",
    "        #print(1)\n",
    "        return category_ru\n",
    "\n",
    "    if category_ru == 'None' and category_ua == 'None':\n",
    "        #print(2)\n",
    "        return ''\n",
    "\n",
    "    if category_ru == 'None':\n",
    "        #print(3)\n",
    "        return category_ua[6:-8]\n",
    "\n",
    "    if category_ua == 'None':\n",
    "        #print(4)\n",
    "        return category_ru[9:-8]"
   ]
  },
  {
   "cell_type": "code",
   "execution_count": 32,
   "metadata": {},
   "outputs": [],
   "source": [
    "def get_url(language, query, myscity, category):\n",
    "       \n",
    "        if category == '':\n",
    "            #Запрос без города по всей стране\n",
    "            if myscity == '' :\n",
    "                #print(1)\n",
    "                all_url = \"https://www.work.ua/{}/jobs\".format(language) + \"-\" + query\n",
    "                return all_url\n",
    "            \n",
    "            \n",
    "            # Запрос с городом с русской и укр локализацией\n",
    "            elif query != '' and myscity != '' :\n",
    "                #print(2)\n",
    "                all_url = \"https://www.work.ua/{}\".format(language) + '/jobs-'+ myscity + \"-\" + query\n",
    "                return all_url\n",
    "            \n",
    "            # Без ззапроса с городом\n",
    "            if query == '':\n",
    "                #print(3)\n",
    "                all_url = \"https://www.work.ua/{}\".format(language)+ '/jobs-'+ myscity\n",
    "                return all_url\n",
    "        else:\n",
    "            #https://www.work.ua/ru/jobs-kharkiv-it-python/?advs=1\n",
    "            \n",
    "            # Без ззапроса с городом с русской и укр локализацией с категорией\n",
    "            if query == '' and myscity != '':\n",
    "                #print(4)\n",
    "                all_url = \"https://www.work.ua/{}\".format(language)+ '/jobs-'+ myscity  + '-'+ category\n",
    "                return all_url\n",
    "            \n",
    "            # Запрос с городом с русской и укр локализацией\n",
    "            elif query != '' and myscity != '' :\n",
    "                #print(5)\n",
    "                all_url = \"https://www.work.ua/{}\".format(language)+ '/jobs-'+ myscity  + '-'+ category + \"-\" + query\n",
    "                return all_url\n",
    "            \n",
    "            #Запрос без города по всей стране\n",
    "            if myscity == ''  and query != '':\n",
    "                #print(6)\n",
    "                all_url = \"https://www.work.ua/{}/jobs\".format(language) + '-'+ category +  \"-\" + query\n",
    "                return all_url\n",
    "            \n",
    "            if myscity == '' and query == '':\n",
    "                #print(7)\n",
    "                all_url = \"https://www.work.ua/{}\".format(language)+ '/jobs' + '-'+ category\n",
    "                return all_url"
   ]
  },
  {
   "cell_type": "code",
   "execution_count": 34,
   "metadata": {},
   "outputs": [
    {
     "data": {
      "text/plain": [
       "'https://www.work.ua/ua/jobs-myrhorod-real-estate'"
      ]
     },
     "execution_count": 34,
     "metadata": {},
     "output_type": "execute_result"
    }
   ],
   "source": [
    "language = 'ua'\n",
    "inputquery = ''\n",
    "inputcategory = \"Недвижимость\"\n",
    "inputscity = 'Миргород'\n",
    "\n",
    "\n",
    "city = try_get_city(inputscity)\n",
    "category = get_category(inputcategory)\n",
    "url = get_url(language, inputquery, city, category)\n",
    "url\n",
    "#text = ListVacancy.next_page(all_url,language)\n",
    "#print(text)\n",
    "#data = ListVacancy.ListSentence(all_url)"
   ]
  },
  {
   "cell_type": "code",
   "execution_count": null,
   "metadata": {},
   "outputs": [],
   "source": []
  },
  {
   "cell_type": "code",
   "execution_count": null,
   "metadata": {},
   "outputs": [],
   "source": []
  },
  {
   "cell_type": "code",
   "execution_count": null,
   "metadata": {},
   "outputs": [],
   "source": []
  },
  {
   "cell_type": "code",
   "execution_count": null,
   "metadata": {},
   "outputs": [],
   "source": []
  },
  {
   "cell_type": "code",
   "execution_count": null,
   "metadata": {},
   "outputs": [],
   "source": []
  },
  {
   "cell_type": "code",
   "execution_count": null,
   "metadata": {},
   "outputs": [],
   "source": []
  },
  {
   "cell_type": "code",
   "execution_count": null,
   "metadata": {},
   "outputs": [],
   "source": []
  },
  {
   "cell_type": "code",
   "execution_count": null,
   "metadata": {},
   "outputs": [],
   "source": []
  },
  {
   "cell_type": "code",
   "execution_count": null,
   "metadata": {},
   "outputs": [],
   "source": []
  },
  {
   "cell_type": "code",
   "execution_count": null,
   "metadata": {},
   "outputs": [],
   "source": []
  },
  {
   "cell_type": "code",
   "execution_count": null,
   "metadata": {},
   "outputs": [],
   "source": []
  },
  {
   "cell_type": "code",
   "execution_count": null,
   "metadata": {},
   "outputs": [],
   "source": []
  },
  {
   "cell_type": "code",
   "execution_count": null,
   "metadata": {},
   "outputs": [],
   "source": []
  }
 ],
 "metadata": {
  "kernelspec": {
   "display_name": "Python 3",
   "language": "python",
   "name": "python3"
  },
  "language_info": {
   "codemirror_mode": {
    "name": "ipython",
    "version": 3
   },
   "file_extension": ".py",
   "mimetype": "text/x-python",
   "name": "python",
   "nbconvert_exporter": "python",
   "pygments_lexer": "ipython3",
   "version": "3.7.3"
  }
 },
 "nbformat": 4,
 "nbformat_minor": 2
}
